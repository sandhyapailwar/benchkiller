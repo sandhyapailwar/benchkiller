{
 "cells": [
  {
   "cell_type": "code",
   "execution_count": null,
   "metadata": {},
   "outputs": [
    {
     "name": "stderr",
     "output_type": "stream",
     "text": [
      "70910it [1:07:10, 30.33it/s]"
     ]
    }
   ],
   "source": [
    "import win32com.client\n",
    "import pdb\n",
    "from operator import itemgetter\n",
    "from tqdm import tqdm\n",
    "import csv\n",
    "\n",
    "o = win32com.client.gencache.EnsureDispatch(\"Outlook.Application\")\n",
    "ns = o.GetNamespace(\"MAPI\")\n",
    "\n",
    "adrLi = ns.AddressLists.Item(\"Global Address List\")\n",
    "contacts = adrLi.AddressEntries\n",
    "numEntries = adrLi.AddressEntries.Count\n",
    "\n",
    "export_contacts = list()\n",
    "\n",
    "COLUMNS = ('full_name', 'first_name', 'last_name', 'email')\n",
    "FIELDS = [itemgetter(field) for field in COLUMNS]\n",
    "\n",
    "def to_contacts(contact: any) -> dict:\n",
    "    if \",\" not in contact.Name:\n",
    "        return None\n",
    "    if contact.Type == 'EX':\n",
    "        eu = contact.GetExchangeUser()\n",
    "        if not eu:\n",
    "            return None\n",
    "        email_address = eu.PrimarySmtpAddress\n",
    "    elif contact.Type == 'SMTP':\n",
    "        email_address = contact.Address\n",
    "    else:\n",
    "        email_address = None\n",
    "    if not email_address:\n",
    "        return None\n",
    "    try:\n",
    "        return dict(\n",
    "            full_name=contact.Name,\n",
    "            first_name=eu.FirstName if eu else None,\n",
    "            last_name=eu.LastName if eu else None,\n",
    "            email=email_address\n",
    "        )\n",
    "    except Exception as e:\n",
    "        return None\n",
    "    \n",
    "def persons_only(contact) -> bool:\n",
    "    return bool(contact) and isinstance(contact, dict)\n",
    "\n",
    "persons = filter(persons_only, map(to_contacts, contacts))\n",
    "csv_file = \"contacts.csv\"    \n",
    "\n",
    "with open(csv_file, \"w\", encoding=\"utf-8\") as file:\n",
    "    writer = csv.DictWriter(file, fieldnames=COLUMNS, delimiter=',', quotechar='\"', quoting=csv.QUOTE_MINIMAL)\n",
    "    writer.writeheader()\n",
    "    for contact in tqdm(persons):\n",
    "        writer.writerow(contact)\n",
    "\n",
    "\n",
    "export_contacts"
   ]
  },
  {
   "cell_type": "code",
   "execution_count": null,
   "metadata": {},
   "outputs": [],
   "source": []
  }
 ],
 "metadata": {
  "kernelspec": {
   "display_name": "Python 3",
   "language": "python",
   "name": "python3"
  },
  "language_info": {
   "codemirror_mode": {
    "name": "ipython",
    "version": 3
   },
   "file_extension": ".py",
   "mimetype": "text/x-python",
   "name": "python",
   "nbconvert_exporter": "python",
   "pygments_lexer": "ipython3",
   "version": "3.7.1"
  }
 },
 "nbformat": 4,
 "nbformat_minor": 2
}
