{
 "cells": [
  {
   "cell_type": "code",
   "execution_count": 1,
   "metadata": {},
   "outputs": [
    {
     "name": "stdout",
     "output_type": "stream",
     "text": [
      "[<QuerySet [<Opportunity: New Project>, <Opportunity: EALA_Network_Test>, <Opportunity: SKY IDS Burst>, <Opportunity: WSIG-Optimus - AD/AM Outsource core deal>, <Opportunity: PM Key Projects Followup>, <Opportunity: 9940247993 - NEG SKY CAELUM>, <Opportunity: 9940232806 - NEG - NEW PRJ SIEBEL>, <Opportunity: 9940280302 - Sky Q Governance Jul-Sep201>, <Opportunity: PM Key Projects Stream>, <Opportunity: 9940271708 - WSIG-PM Network - phase II_>, <Opportunity: 9940206393 - SKY IDS Burst>, <Opportunity: 9940271154 - SKY CAELUM 4400>, <Opportunity: 9940262393 - NEG Blue Bird>, <Opportunity: 10895348 - BB Business Alignment>, <Opportunity: AYBH9001 - Sow 49 Surge (London)>]>]\n"
     ]
    }
   ],
   "source": [
    "# The only thing you need to do is to use import below:\n",
    "import bootstrap\n",
    "\n",
    "#\n",
    "# Now you can work with Django within Jupyter\n",
    "#\n",
    "\n",
    "from crm.models.opportunity import Opportunity\n",
    "\n",
    "print([Opportunity.objects.all()])"
   ]
  },
  {
   "cell_type": "code",
   "execution_count": null,
   "metadata": {},
   "outputs": [],
   "source": []
  },
  {
   "cell_type": "code",
   "execution_count": null,
   "metadata": {},
   "outputs": [],
   "source": []
  }
 ],
 "metadata": {
  "kernelspec": {
   "display_name": "Python 3",
   "language": "python",
   "name": "python3"
  },
  "language_info": {
   "codemirror_mode": {
    "name": "ipython",
    "version": 3
   },
   "file_extension": ".py",
   "mimetype": "text/x-python",
   "name": "python",
   "nbconvert_exporter": "python",
   "pygments_lexer": "ipython3",
   "version": "3.7.1"
  }
 },
 "nbformat": 4,
 "nbformat_minor": 2
}
